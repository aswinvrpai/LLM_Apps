{
 "cells": [
  {
   "cell_type": "code",
   "execution_count": 2,
   "id": "348adb30-c82a-44a7-ab77-fd693fc4e6a4",
   "metadata": {},
   "outputs": [
    {
     "data": {
      "text/plain": [
       "True"
      ]
     },
     "execution_count": 2,
     "metadata": {},
     "output_type": "execute_result"
    }
   ],
   "source": [
    "import os\n",
    "import dotenv\n",
    "dotenv.load_dotenv()\n",
    "\n",
    "from langchain.chains import create_retrieval_chain\n",
    "from langchain_community.embeddings import OllamaEmbeddings\n",
    "from langchain_text_splitters import RecursiveCharacterTextSplitter\n",
    "from langchain_community.vectorstores import FAISS\n",
    "from langchain.chains.combine_documents import create_stuff_documents_chain\n",
    "from langchain_core.prompts import ChatPromptTemplate\n",
    "from langchain_community.document_loaders import PyPDFDirectoryLoader"
   ]
  },
  {
   "cell_type": "code",
   "execution_count": 4,
   "id": "ee5cadf5-c060-40d7-a654-97f527ac8bcc",
   "metadata": {},
   "outputs": [
    {
     "name": "stdout",
     "output_type": "stream",
     "text": [
      "client=<groq.resources.chat.completions.Completions object at 0x000002136DE611F0> async_client=<groq.resources.chat.completions.AsyncCompletions object at 0x000002136DE61C70> model_name='llama3-8b-8192' groq_api_key=SecretStr('**********')\n"
     ]
    }
   ],
   "source": [
    "GROQ_API_KEY=os.getenv(\"GROQ_API_KEY\")\n",
    "\n",
    "# LLM;\n",
    "from langchain_groq import ChatGroq\n",
    "llm_model=ChatGroq(model=\"llama3-8b-8192\",groq_api_key=GROQ_API_KEY)\n",
    "print(llm_model)"
   ]
  },
  {
   "cell_type": "code",
   "execution_count": null,
   "id": "f425f771-9e7b-4f2d-8e4a-c15005b2127a",
   "metadata": {},
   "outputs": [],
   "source": []
  },
  {
   "cell_type": "code",
   "execution_count": null,
   "id": "cf3871ed-7c8a-476a-8fad-aee9d5f5ae9f",
   "metadata": {},
   "outputs": [],
   "source": []
  }
 ],
 "metadata": {
  "kernelspec": {
   "display_name": "Python 3 (ipykernel)",
   "language": "python",
   "name": "python3"
  },
  "language_info": {
   "codemirror_mode": {
    "name": "ipython",
    "version": 3
   },
   "file_extension": ".py",
   "mimetype": "text/x-python",
   "name": "python",
   "nbconvert_exporter": "python",
   "pygments_lexer": "ipython3",
   "version": "3.12.3"
  }
 },
 "nbformat": 4,
 "nbformat_minor": 5
}
